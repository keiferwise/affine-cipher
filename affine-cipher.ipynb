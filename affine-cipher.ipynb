{
 "cells": [
  {
   "cell_type": "code",
   "execution_count": 1,
   "metadata": {},
   "outputs": [],
   "source": [
    "def text_Z26(text):   \n",
    "    letters='abcdefghijklmnopqrstuvwxyz_ '\n",
    "    Z26=''\n",
    "    for i in text:\n",
    "        Z26+=format(letters.find(i),'02d')  \n",
    "    return(Z26)\n",
    "#this fuction created by Josh Schneider"
   ]
  },
  {
   "cell_type": "code",
   "execution_count": 2,
   "metadata": {},
   "outputs": [],
   "source": [
    "def Z26_text(Z26):    \n",
    "    letters='abcdefghijklmnopqrstuvwxyz_ '\n",
    "    text=''\n",
    "    for i in range(0,len(Z26),2):\n",
    "        text+=letters[int(Z26[i:i+2])]\n",
    "    return(text)\n",
    "#this fuction created by Josh Schneider"
   ]
  },
  {
   "cell_type": "code",
   "execution_count": 3,
   "metadata": {},
   "outputs": [],
   "source": [
    "def pad_string(block_size, string):\n",
    "    while len(string)%block_size != 0:\n",
    "        string = string + \" \"\n",
    "    return string"
   ]
  },
  {
   "cell_type": "code",
   "execution_count": 4,
   "metadata": {},
   "outputs": [],
   "source": [
    "def encrypt_affine_block(k, block, n):\n",
    "        return (int(block) * k % n)"
   ]
  },
  {
   "cell_type": "code",
   "execution_count": 5,
   "metadata": {},
   "outputs": [],
   "source": [
    "def encrypt_affine_text(plain,n,k,block_size):\n",
    "    \n",
    "    z26_plain_text = text_Z26(pad_string(block_size, plain))\n",
    "    print(z26_plain_text)\n",
    "    i = len(z26_plain_text)\n",
    "    j = 0\n",
    "    block_list = list()\n",
    "    while j < i:\n",
    "        next_block = z26_plain_text[j:(j+block_size)]\n",
    "        block_list.append(next_block)\n",
    "        j+=block_size\n",
    "    cipher_text=''\n",
    "    for block in block_list:\n",
    "        cipher_text += (str(encrypt_affine_block(k,block,n))) \n",
    "    return cipher_text"
   ]
  },
  {
   "cell_type": "code",
   "execution_count": 6,
   "metadata": {},
   "outputs": [],
   "source": [
    "def decrypt_affine_block(k_inverse,block,n):\n",
    "    return (int(block) * k_inverse % n)"
   ]
  },
  {
   "cell_type": "code",
   "execution_count": 7,
   "metadata": {},
   "outputs": [],
   "source": [
    "def decrypt_affine_text(cipher,n,k_inverse,block_size):\n",
    "    i = len(str(cipher))\n",
    "    k = 0\n",
    "    block_list = list()\n",
    "    while k < i:\n",
    "        next_block = cipher[k:(k+block_size)]\n",
    "        block_list.append(next_block)\n",
    "        k+=block_size\n",
    "    plain_text=''\n",
    "    for block in block_list:\n",
    "        plain_text += (Z26_text(str(decrypt_affine_block(k_inverse,block,n))))\n",
    "        \n",
    "    return plain_text"
   ]
  },
  {
   "cell_type": "code",
   "execution_count": 8,
   "metadata": {},
   "outputs": [
    {
     "name": "stdout",
     "output_type": "stream",
     "text": [
      "131422241420170508170403\n"
     ]
    },
    {
     "data": {
      "text/plain": [
       "'nowyourfired'"
      ]
     },
     "execution_count": 8,
     "metadata": {},
     "output_type": "execute_result"
    }
   ],
   "source": [
    "block_size = 6\n",
    "n = 261721\n",
    "k = 71339\n",
    "k_inverse = 138097\n",
    "encrypt_affine_text(\"nowyourfired\",n,k,block_size)\n",
    "\n",
    "decrypt_affine_text('144396110975125016224330',n,k_inverse,block_size)"
   ]
  }
 ],
 "metadata": {
  "kernelspec": {
   "display_name": "Python 3",
   "language": "python",
   "name": "python3"
  },
  "language_info": {
   "codemirror_mode": {
    "name": "ipython",
    "version": 3
   },
   "file_extension": ".py",
   "mimetype": "text/x-python",
   "name": "python",
   "nbconvert_exporter": "python",
   "pygments_lexer": "ipython3",
   "version": "3.7.4"
  }
 },
 "nbformat": 4,
 "nbformat_minor": 2
}
